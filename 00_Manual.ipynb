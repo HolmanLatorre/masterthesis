{
  "nbformat": 4,
  "nbformat_minor": 0,
  "metadata": {
    "colab": {
      "provenance": [],
      "include_colab_link": true
    },
    "kernelspec": {
      "name": "python3",
      "display_name": "Python 3"
    }
  },
  "cells": [
    {
      "cell_type": "markdown",
      "metadata": {
        "id": "view-in-github",
        "colab_type": "text"
      },
      "source": [
        "<a href=\"https://colab.research.google.com/github/HolmanLatorre/masterthesis/blob/main/00_Manual.ipynb\" target=\"_parent\"><img src=\"https://colab.research.google.com/assets/colab-badge.svg\" alt=\"Open In Colab\"/></a>"
      ]
    },
    {
      "cell_type": "markdown",
      "metadata": {
        "id": "wu_BLyiT2iPh"
      },
      "source": [
        "# NFEM Manual"
      ]
    },
    {
      "cell_type": "markdown",
      "metadata": {
        "id": "FAcbl32Vvegp"
      },
      "source": [
        "Here you can find instructions for installing and using the NFEM tool."
      ]
    },
    {
      "cell_type": "markdown",
      "metadata": {
        "id": "PKGb5QVY2jib"
      },
      "source": [
        "## Prerequisites\n",
        "\n",
        "We use the Jupyter editor to execute Python code and display the results. You can install Jupyter on your personal computer or you can use a online version like Google Colab. Depending on your preference you can follow one of the following guides.\n",
        "\n",
        "- [Use Jupyter on your personal computer](https://colab.research.google.com/drive/1IBVEnBU0SE9dmE07XmzgJoGEeaZhtiMd?usp=sharing)\n",
        "- [Use Jupyter online](https://colab.research.google.com/drive/1Qghe81cEOxWgzYCz1gMyHMGda0wxJdcX?usp=sharing)"
      ]
    },
    {
      "cell_type": "markdown",
      "metadata": {
        "id": "EKi9_A_u7eJI"
      },
      "source": [
        "## NFEM Tool\n",
        "\n",
        "The NFEM Tool is a package for Python, which provides various utilities for the nonlinear analysis of trusses.\n",
        "\n",
        "- [Using the NFEM Tool](https://colab.research.google.com/drive/1ZiNaH_JsmL_yFrPU5O3M84OR6m5fN4kG?usp=sharing)"
      ]
    }
  ]
}